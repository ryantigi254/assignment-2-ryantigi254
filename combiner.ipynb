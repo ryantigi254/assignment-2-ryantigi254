{
 "cells": [
  {
   "cell_type": "code",
   "execution_count": 1,
   "metadata": {},
   "outputs": [
    {
     "name": "stdout",
     "output_type": "stream",
     "text": [
      "\u001b[31mERROR: Could not find a version that satisfies the requirement os (from versions: none)\u001b[0m\u001b[31m\n",
      "\u001b[0m\n",
      "\u001b[1m[\u001b[0m\u001b[34;49mnotice\u001b[0m\u001b[1;39;49m]\u001b[0m\u001b[39;49m A new release of pip is available: \u001b[0m\u001b[31;49m24.3.1\u001b[0m\u001b[39;49m -> \u001b[0m\u001b[32;49m25.0\u001b[0m\n",
      "\u001b[1m[\u001b[0m\u001b[34;49mnotice\u001b[0m\u001b[1;39;49m]\u001b[0m\u001b[39;49m To update, run: \u001b[0m\u001b[32;49mpip install --upgrade pip\u001b[0m\n",
      "\u001b[31mERROR: No matching distribution found for os\u001b[0m\u001b[31m\n",
      "\u001b[0mNote: you may need to restart the kernel to use updated packages.\n",
      "\u001b[31mERROR: Could not find a version that satisfies the requirement glob (from versions: none)\u001b[0m\u001b[31m\n",
      "\u001b[0m\n",
      "\u001b[1m[\u001b[0m\u001b[34;49mnotice\u001b[0m\u001b[1;39;49m]\u001b[0m\u001b[39;49m A new release of pip is available: \u001b[0m\u001b[31;49m24.3.1\u001b[0m\u001b[39;49m -> \u001b[0m\u001b[32;49m25.0\u001b[0m\n",
      "\u001b[1m[\u001b[0m\u001b[34;49mnotice\u001b[0m\u001b[1;39;49m]\u001b[0m\u001b[39;49m To update, run: \u001b[0m\u001b[32;49mpip install --upgrade pip\u001b[0m\n",
      "\u001b[31mERROR: No matching distribution found for glob\u001b[0m\u001b[31m\n",
      "\u001b[0mNote: you may need to restart the kernel to use updated packages.\n",
      "\u001b[31mERROR: Could not find a version that satisfies the requirement re (from versions: none)\u001b[0m\u001b[31m\n",
      "\u001b[0m\n",
      "\u001b[1m[\u001b[0m\u001b[34;49mnotice\u001b[0m\u001b[1;39;49m]\u001b[0m\u001b[39;49m A new release of pip is available: \u001b[0m\u001b[31;49m24.3.1\u001b[0m\u001b[39;49m -> \u001b[0m\u001b[32;49m25.0\u001b[0m\n",
      "\u001b[1m[\u001b[0m\u001b[34;49mnotice\u001b[0m\u001b[1;39;49m]\u001b[0m\u001b[39;49m To update, run: \u001b[0m\u001b[32;49mpip install --upgrade pip\u001b[0m\n",
      "\u001b[31mERROR: No matching distribution found for re\u001b[0m\u001b[31m\n",
      "\u001b[0mNote: you may need to restart the kernel to use updated packages.\n"
     ]
    }
   ],
   "source": [
    "%pip install os\n",
    "%pip install glob\n",
    "%pip install re\n"
   ]
  },
  {
   "cell_type": "code",
   "execution_count": 3,
   "metadata": {},
   "outputs": [
    {
     "name": "stdout",
     "output_type": "stream",
     "text": [
      "Files combined into combined_codebase.txt\n"
     ]
    }
   ],
   "source": [
    "import os\n",
    "import glob\n",
    "import re\n",
    "import json\n",
    "\n",
    "def read_notebook_content(file_path):\n",
    "    try:\n",
    "        with open(file_path, 'r', encoding='utf-8') as f:\n",
    "            notebook = json.load(f)\n",
    "        \n",
    "        content = []\n",
    "        for cell in notebook['cells']:\n",
    "            # Add markdown cells with their type indicated\n",
    "            if cell['cell_type'] == 'markdown':\n",
    "                content.append('\"\"\"\\n# Markdown Cell\\n' + ''.join(cell['source']) + '\\n\"\"\"\\n')\n",
    "            # Add code cells\n",
    "            elif cell['cell_type'] == 'code':\n",
    "                content.append(''.join(cell['source']))\n",
    "        \n",
    "        return '\\n\\n'.join(content)\n",
    "    except Exception as e:\n",
    "        return f\"[Error reading notebook {file_path}: {str(e)}]\"\n",
    "\n",
    "def read_file_content(file_path):\n",
    "    # Handle .ipynb files separately\n",
    "    if file_path.endswith('.ipynb'):\n",
    "        return read_notebook_content(file_path)\n",
    "        \n",
    "    try:\n",
    "        with open(file_path, 'r', encoding='utf-8') as f:\n",
    "            return f.read()\n",
    "    except UnicodeDecodeError:\n",
    "        try:\n",
    "            with open(file_path, 'r', encoding='latin-1') as f:\n",
    "                return f.read()\n",
    "        except:\n",
    "            return f\"[Error reading {file_path}]\"\n",
    "\n",
    "def combine_files(root_dir, output_file):\n",
    "    # File extensions to process\n",
    "    text_extensions = {\n",
    "        '.py', '.ipynb', '.txt', '.md', '.tex', '.sty', '.cls', \n",
    "        '.bib', '.bbl', '.aux', '.css', '.html', '.js', '.json',\n",
    "        '.yml', '.yaml', '.sh', '.bash', '.sql', '.r', '.R',\n",
    "        '.java', '.cpp', '.c', '.h', '.hpp', '.cs', '.php',\n",
    "        '.rb', '.pl', '.swift', '.go', '.rs', '.ts', '.tsx'\n",
    "    }\n",
    "    \n",
    "    # Get all files recursively\n",
    "    all_files = []\n",
    "    for root, _, files in os.walk(root_dir):\n",
    "        for file in files:\n",
    "            file_path = os.path.join(root, file)\n",
    "            extension = os.path.splitext(file_path)[1].lower()\n",
    "            # Skip git files, binary files, and non-text extensions\n",
    "            if (not '.git' in file_path and \n",
    "                not file.endswith(('.exe', '.dll', '.so', '.dylib', '.png', '.jpg', '.jpeg', '.gif', '.pdf')) and\n",
    "                (extension in text_extensions or not extension)):\n",
    "                all_files.append(file_path)\n",
    "\n",
    "    with open(output_file, 'w', encoding='utf-8') as outfile:\n",
    "        for file_path in all_files:\n",
    "            rel_path = os.path.relpath(file_path, root_dir)\n",
    "            extension = os.path.splitext(file_path)[1]\n",
    "            \n",
    "            # Write file header with clear separation\n",
    "            outfile.write(f\"\\n{'='*80}\\n\")\n",
    "            outfile.write(f\"File: {rel_path}\\n\")\n",
    "            outfile.write(f\"{'='*80}\\n\\n\")\n",
    "            \n",
    "            # Read and write content\n",
    "            content = read_file_content(file_path)\n",
    "            outfile.write(content)\n",
    "            outfile.write(\"\\n\")\n",
    "\n",
    "if __name__ == \"__main__\":\n",
    "    root_directory = \".\"  # Current directory\n",
    "    output_file = \"combined_codebase.txt\"\n",
    "    \n",
    "    combine_files(root_directory, output_file)\n",
    "    print(f\"Files combined into {output_file}\")"
   ]
  },
  {
   "cell_type": "code",
   "execution_count": 7,
   "metadata": {},
   "outputs": [
    {
     "name": "stdout",
     "output_type": "stream",
     "text": [
      "Requirement already satisfied: python-docx in /opt/homebrew/Caskroom/miniforge/base/envs/mlx-env/lib/python3.12/site-packages (1.1.2)\n",
      "Requirement already satisfied: lxml>=3.1.0 in /opt/homebrew/Caskroom/miniforge/base/envs/mlx-env/lib/python3.12/site-packages (from python-docx) (5.3.0)\n",
      "Requirement already satisfied: typing-extensions>=4.9.0 in /opt/homebrew/Caskroom/miniforge/base/envs/mlx-env/lib/python3.12/site-packages (from python-docx) (4.12.2)\n",
      "\n",
      "\u001b[1m[\u001b[0m\u001b[34;49mnotice\u001b[0m\u001b[1;39;49m]\u001b[0m\u001b[39;49m A new release of pip is available: \u001b[0m\u001b[31;49m24.3.1\u001b[0m\u001b[39;49m -> \u001b[0m\u001b[32;49m25.0\u001b[0m\n",
      "\u001b[1m[\u001b[0m\u001b[34;49mnotice\u001b[0m\u001b[1;39;49m]\u001b[0m\u001b[39;49m To update, run: \u001b[0m\u001b[32;49mpip install --upgrade pip\u001b[0m\n",
      "Note: you may need to restart the kernel to use updated packages.\n",
      "Converted combined_codebase.txt to combined_codebase.docx\n"
     ]
    }
   ],
   "source": [
    "%pip install python-docx\n",
    "\n",
    "from docx import Document\n",
    "import re\n",
    "\n",
    "def convert_to_word(txt_file, output_docx):\n",
    "    # Create a new Word document\n",
    "    doc = Document()\n",
    "    \n",
    "    # Read the text file\n",
    "    with open(txt_file, 'r', encoding='utf-8') as file:\n",
    "        content = file.read()\n",
    "        \n",
    "    # Add content to document, preserving line breaks\n",
    "    for line in content.split('\\n'):\n",
    "        # Remove or replace invalid XML characters\n",
    "        clean_line = re.sub(r'[\\x00-\\x08\\x0B\\x0C\\x0E-\\x1F\\x7F]', '', line)\n",
    "        if clean_line:  # Only add non-empty lines\n",
    "            doc.add_paragraph(clean_line)\n",
    "        \n",
    "    # Save the document\n",
    "    doc.save(output_docx)\n",
    "\n",
    "# Convert the combined codebase to Word\n",
    "txt_file = \"combined_codebase.txt\"\n",
    "output_docx = \"combined_codebase.docx\"\n",
    "convert_to_word(txt_file, output_docx)\n",
    "print(f\"Converted {txt_file} to {output_docx}\")\n"
   ]
  },
  {
   "cell_type": "code",
   "execution_count": null,
   "metadata": {},
   "outputs": [],
   "source": []
  },
  {
   "cell_type": "code",
   "execution_count": null,
   "metadata": {},
   "outputs": [],
   "source": []
  },
  {
   "cell_type": "code",
   "execution_count": null,
   "metadata": {},
   "outputs": [],
   "source": []
  },
  {
   "cell_type": "code",
   "execution_count": null,
   "metadata": {},
   "outputs": [],
   "source": []
  },
  {
   "cell_type": "code",
   "execution_count": null,
   "metadata": {},
   "outputs": [],
   "source": []
  },
  {
   "cell_type": "code",
   "execution_count": null,
   "metadata": {},
   "outputs": [],
   "source": []
  },
  {
   "cell_type": "code",
   "execution_count": null,
   "metadata": {},
   "outputs": [],
   "source": []
  },
  {
   "cell_type": "code",
   "execution_count": null,
   "metadata": {},
   "outputs": [],
   "source": []
  },
  {
   "cell_type": "code",
   "execution_count": null,
   "metadata": {},
   "outputs": [],
   "source": []
  }
 ],
 "metadata": {
  "kernelspec": {
   "display_name": "mlx-env",
   "language": "python",
   "name": "python3"
  },
  "language_info": {
   "codemirror_mode": {
    "name": "ipython",
    "version": 3
   },
   "file_extension": ".py",
   "mimetype": "text/x-python",
   "name": "python",
   "nbconvert_exporter": "python",
   "pygments_lexer": "ipython3",
   "version": "3.12.8"
  }
 },
 "nbformat": 4,
 "nbformat_minor": 2
}
